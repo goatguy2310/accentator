{
 "cells": [
  {
   "cell_type": "code",
   "execution_count": 1,
   "id": "52a5cd39",
   "metadata": {},
   "outputs": [],
   "source": [
    "from datasets import load_dataset\n",
    "import gpt.tokenizer as tokenizer\n",
    "import string"
   ]
  },
  {
   "cell_type": "code",
   "execution_count": 2,
   "id": "5eae0c00",
   "metadata": {},
   "outputs": [],
   "source": [
    "ds = load_dataset(\"vietgpt/wikipedia_vi\")"
   ]
  },
  {
   "cell_type": "code",
   "execution_count": 3,
   "id": "468a5693",
   "metadata": {},
   "outputs": [],
   "source": [
    "na_to_a = {\n",
    "    'a': 'aáàảãạăắằẳẵặâấầẩẫậ',\n",
    "    'e': 'eéèẻẽẹêếềểễệ',\n",
    "    'i': 'iíìỉĩị',\n",
    "    'o': 'oóòỏõọôốồổỗộơớờởỡợ',\n",
    "    'u': 'uúùủũụưứừửữự',\n",
    "    'y': 'yýỳỷỹỵ',\n",
    "    'd': 'dđ',\n",
    "    # Uppercase letters\n",
    "    'A': 'AÁÀẢÃẠĂẮẰẲẴẶÂẤẦẨẪẬ',\n",
    "    'E': 'EÉÈẺẼẸÊẾỀỂỄỆ',\n",
    "    'I': 'IÍÌỈĨỊ',\n",
    "    'O': 'OÓÒỎÕỌÔỐỒỔỖỘƠỚỜỞỠỢ',\n",
    "    'U': 'UÚÙỦŨỤƯỨỪỬỮỰ',\n",
    "    'Y': 'YÝỲỶỸỴ',\n",
    "    'D': 'DĐ'\n",
    "}\n",
    "\n",
    "a_to_na = {}\n",
    "for k, v in na_to_a.items():\n",
    "    for c in v:\n",
    "        a_to_na[c] = k\n",
    "for c in \"abcdefghijklmnopqrstuvwxyzABCDEFGHIJKLMNOPQRSTUVWXYZ\":\n",
    "    if c not in a_to_na:\n",
    "        a_to_na[c] = c\n",
    "\n",
    "def normalize(text):\n",
    "    return ''.join([a_to_na.get(c, c) for c in text])"
   ]
  },
  {
   "cell_type": "code",
   "execution_count": 4,
   "id": "2b6db71a",
   "metadata": {},
   "outputs": [
    {
     "name": "stdout",
     "output_type": "stream",
     "text": [
      "<class 'datasets.dataset_dict.DatasetDict'>\n",
      "Internet Society hay ISOC là một tổ chức quốc tế hoạt động phi lợi nhuận, phi chính phủ và bao gồm các thành viên có trình độ chuyên ngành. Tổ chức này chú trọng đến: tiêu chuẩn, giáo dục và các vấn đề về chính sách. Với trên 145 tổ chức thành viên và 65.000 thành viên cá nhân, ISOC bao gồm những con người cụ thể trong cộng đồng Internet. Mọi chi tiết có thể tìm thấy tại website của ISOC.\n",
      "Internet Society nằm ở gần thủ đô Washington, DC, Hoa Kỳ và Geneva, Thụy Sĩ. Số hội viên của nó bao gồm hơn 145 tổ chức thành viên và hơn 65.000 cá nhân. Thành viên còn có thể tự lập một chi nhánh của tổ chức tùy theo vị trí hoặc sở thích. Hiện nay tổ chức có tới 90 chi nhánh trên toàn thế giới.\n",
      "Nhiệm vụ và mục đích hoạt động.\n",
      "Bảo đảm, cổ vũ cho sự phát triển, mở rộng và sử dụng Internet được thuận lợi nhất cho mọi người trên toàn thế giới.\n",
      "76668\n"
     ]
    }
   ],
   "source": [
    "print(type(ds))\n",
    "print(ds['train'][1]['text'])\n",
    "print(len(ds['train'][6]['text']))"
   ]
  },
  {
   "cell_type": "code",
   "execution_count": 24,
   "id": "5e55f5bb",
   "metadata": {},
   "outputs": [
    {
     "name": "stdout",
     "output_type": "stream",
     "text": [
      "Total token count: 12310555\n"
     ]
    }
   ],
   "source": [
    "text_count = 1000\n",
    "\n",
    "text = \"\"\n",
    "normalized_text = \"\"\n",
    "total_token_count = 0\n",
    "for i in range(text_count):\n",
    "    d = str(ds['train'][i]['text'])\n",
    "    d = d.replace('\\n', ' ').lower()\n",
    "\n",
    "    text += d + \"\\n\"\n",
    "    normalized_text += normalize(d) + \"\\n\"\n",
    "\n",
    "    total_token_count += len(d)\n",
    "print(\"Total token count:\", total_token_count)\n",
    "\n",
    "with open(\"data/train.txt\", \"w\", encoding=\"utf-8\") as f:\n",
    "    f.write(text)\n",
    "with open(\"data/train_normalized.txt\", \"w\", encoding=\"utf-8\") as f:\n",
    "    f.write(normalized_text)"
   ]
  },
  {
   "cell_type": "code",
   "execution_count": 25,
   "id": "c8d048c8",
   "metadata": {},
   "outputs": [
    {
     "name": "stdout",
     "output_type": "stream",
     "text": [
      "Total token count: 2181391\n"
     ]
    }
   ],
   "source": [
    "text_count = 1000\n",
    "\n",
    "text = \"\"\n",
    "normalized_text = \"\"\n",
    "total_token_count = 0\n",
    "for i in range(-1, -text_count-1, -1):\n",
    "    d = str(ds['train'][i]['text'])\n",
    "    d = d.replace('\\n', ' ').lower()\n",
    "\n",
    "    text += d + \"\\n\"\n",
    "    normalized_text += normalize(d) + \"\\n\"\n",
    "\n",
    "    total_token_count += len(d)\n",
    "print(\"Total token count:\", total_token_count)\n",
    "\n",
    "with open(\"data/test.txt\", \"w\", encoding=\"utf-8\") as f:\n",
    "    f.write(text)\n",
    "with open(\"data/test_normalized.txt\", \"w\", encoding=\"utf-8\") as f:\n",
    "    f.write(normalized_text)"
   ]
  },
  {
   "cell_type": "code",
   "execution_count": 26,
   "id": "fea9d58e",
   "metadata": {},
   "outputs": [
    {
     "name": "stdout",
     "output_type": "stream",
     "text": [
      "\n",
      " !\"#$%&'()*+,-./0123456789:;=?@[\\]^_abcdefghijklmnopqrstuvwxyz{|}~ ¡£¥¦§«­®°±²³´µ·º»¼½¾¿×ßàáâãäåæçèéêëìíîïðñòóôõö÷øùúûüýþÿāăąćčđēėęěğħĩīıļłńņňŋōŏőœřśşšţũūŭůźżžƒƕơưǎǐǒǔǵșțȟɐɑɓɔɕɗəɛɡɣɨɪɫɯɲʁʃʊʌʏʑʒʔʕʰʲʷʻʼʿˈːˤ˦˧˨˩̣̥̪̯́̇̉άέήίαβγδεζηθικλμνξοπρςστυφχψωόύώабвгдежзийклмнопрстуфхцчшщъыьэюяёіїјњћќџҗқңүҵҷҹӂӌәӝԋԕהוזחימנעפקשתابةتجحخرزسصعغفقكلمنهويپکگیकखगचतथदधनपबभमरशसािीुेौ्করশািกขคงจชญฎฐฑฒณดตทธนบปผพฟภมยรลวศษสหอะัาำิีืุู฿เแไ็่้์๗ງຍດທປມລວອະາືເ້་།གདམསེོུྡྣငမိူး်ᛟកខឃងចជដឌណតទធនពមយរសាីុូួេំះ៉់្ᴇᶑḍḗḥḭḱḳḷṃṅṇṣṭạảấầẩẫậắằẳẵặẹẻẽếềểễệỉịọỏốồổỗộớờởỡợụủứừửữựỳỵỷỹἀἐἔἤἰἱἵὁὄὅὑὰὴὶὸὺῖῦῶ ​‑‒–—―‘’“”„‟†‡•…‰′″⁄⁰⁹₂₩₫€℃№⅒⅓⅔←↑→↓∈−∗√≈≠≤≥⊕⋅☆☉☯♆♒♦⟨⟩ⱪ　、。々〈〉《》「」ぁあいうえおかがきくぐけげこごさざしじすずせぜぞただちっつてとどなにぬのはひびまみめもやょよらりるろわをんアイウォカキグケコシスソタチッツテトドナニノハバパビフプペボマメャヤョルワン・ー㶞一丁七万丈三上下不且世丘东並个中丹主乃义之乎乗九也乣书乩乱乳乾亂亇事二于云五井亚亜亞亢交亥亦亨亩京人仁仄今仕仙代令以仮仲伍伎伏伐会似伽位佐体何佛你佩使來例侍供侯便係俄俊俗保信修倉候借倡倭假偏健傅傑傘傣傳僃働僑僧儒儲元兄先光克兌党入全兩八公六共兵其典兼内冊再农冠冢冥冫冰准凝凶分列初判利别則前剎剝剣力办加助動勘勢勸勿包化北匪区十千升半協南占卢卦卿厘厚厝原厲厶县參取叢口古句可史叶司吁合吉同名后向吕君否含吳吹告周命和咎咕咥咸哈員唐商喃善喪嗑嗣嗶嘴噬囊四回団困国图國園圖團土在地场圻址坂坊坎坡坤坪坻城基堅堆報場塗塘塵墓墳士壬壯声处夏夕外多大天太夫夬央夷奈奉奎奠女奴如妃妄妳妹姐姓姤姦娘婆婢婦媢子字孙孚孝学學安宋宗官定宝実审宦宮家寅密富寘察實寧寨寬寰寶寸寺寿射将將尉尋對導小尕尚就尺尻尼尾居屠履屬屯山岐岛岡岳峴島峻崇崎崗嶺嶼川州巢巨巴巽市布帝師帰帶常幕干平年幸幹序底府度庫康庸廈廌廝廣延廷建开弁弘弟弥張強彌当彞形彭彰影彼往律後徐得從御復徳德徽心必志忘応忽思怡急性恆恒恩息悅悉悔情惕惠惡意愛憲憾應懲戀成我或戦戰戶戸所扈手才扎扞扶承抄抑抗折抱抵抹拐拓括振捧捷授掌推插揚損播撰擬支攸改政故敎教敢敬數文斡断斯新斷方於旅旌族旗无旡既日旦昇昉昌明易星春昭是昱時晏晓晚普景智暑暗暹曆曇曉曜曰曲更書曽會月有朋望朝期木未末本朱李村杜束来東松枕林枝柏柞查柱柴栗校根格桂桃桑桓桥桶梟梧梨梵棉棍棘森椅植検楊楚業極楽榮樂標樞模権樽橘橫檢次歌歐正此步武歲歷歸死殊段殺殿母每比毫氏民气気氣水永求汔汝江沖沙沪沱河油治沿泉法泛注泰泽洊洋洎洗洞洪洲流浦浩浪浮海涉淑淞淡淵混清渎渙渡渭港渺湯湾満源溜溫滄滝滬漁漆漏演漠漢漣漫漸潘潛潢澁澤澳濁濕濟濡濰瀆瀛瀧瀬瀾灘灣火災点為焉無煙照煮熙熟燥爱父爻片牖牙牝牧物特牽犯狂狐猫猶獨獵玄玉王玫珊珠現球理琢琰瑞瓊甘生産用田由甲申画畜畝略番當疆瘡瘫療登發白百的皇皓盈益盘盛監盤直相省眉県真眾睇督睹睽瞿知石碑碧碩磐礁社祀祁祇祖祗神祠祿禁禅福禮禹离秀私秋科移程稍種稱穆穩空窒窞立竜章童等筮算箭箱節簋米粉系紀約紅納純紙素索紫細終組絆統絲經綠維綰線緡緣編縄縣縱總繞繦繼纆續纔红经维缶罔羅羆美群義羲翁翊習翠翹翼考者而聖聞聯聲育胡能腋腳腸腺臆臘臣臨自至致與興舉舊舒舛舞舟航舶船艮良色节芬花芸芹苑若苦英苴范茶茹草荷菓菩菫華萃萌萬葉著蒙蒲蒸蓃蔡蕓薄薇薩藏藝藤藥藻蘇蘭虎虏虛虹蚦蛮蛾蜀蜆蠱蠻血行衡表補裳裴製西要見視親覺觀角解言計訓記訛訟許詔試詳認語説読論諸謙識譯譽讀许谭豐豕象豫豹貞貢貫貳貴買貿賁資賓賢賣賦贅贞赤赴越趣足趾跑跡路蹇蹟躍車軍軒載輔輪輯轢辜辞辭農近述迷逊通逢連進過道達遗遙遠遣遯遷遺還邊邓邦郊郎郑郡部都鄂鄉鄙鄧鄭酒醴里重野金釣釵鈍鈴鉉銀銅鋪錄錢録鎌鎭鎮鏞鏡鏹鐙鐵鑑鑒钗铁铜银镛長門開間閣閻闍阪阮阳阿陀附陆陈陌限陛陰陳陽隆隨險雁雄雅集雑離雨雲電需震霜青非面革音頂順頤頭顺風飛食餅館饒馕首香馬馮駕駱験驛马高鬘魔魚魯鮮鯉鳥鴻鵰鷂鸡麒麟麩黃黄黎黑點鼎齋龍龐ꞌꞗꨌꨚꩌ가강고공광국군금남냻녹다대두라락리명목무민벌빙사산색서선섯성손수숭시신아안야양어역연오온왕요용원월유의인일장조주천콘크태토트폐포피하한현화﻿％，－／：～𡗶𡨸𡿨𥿺𦝄𩈘𫌠\n",
      "2020\n"
     ]
    }
   ],
   "source": [
    "tok = tokenizer.Tokenizer()\n",
    "tok.load(\"data/train.txt\")\n",
    "tok.load(\"data/test.txt\")\n",
    "\n",
    "print(tok.vocab)\n",
    "print(len(tok.vocab))"
   ]
  },
  {
   "cell_type": "code",
   "execution_count": 27,
   "id": "e745766d",
   "metadata": {},
   "outputs": [
    {
     "name": "stdout",
     "output_type": "stream",
     "text": [
      "[56, 111, 45, 1, 48, 91, 1, 38, 100, 51]\n"
     ]
    }
   ],
   "source": [
    "print(tok.encode(\"tôi là béo\"))"
   ]
  },
  {
   "cell_type": "code",
   "execution_count": 28,
   "id": "6c194ab3",
   "metadata": {},
   "outputs": [
    {
     "name": "stdout",
     "output_type": "stream",
     "text": [
      "['bactoprenols', 'kth', '1819', 'mãnh', 'dniester', 'scalawag', 'recode', 'tirana', 'olympus', 'lorri', 'chúng—một', 'nuon', 'ramparts', 'stromae', '130m', 'poss', 'turing', 'sica', '60ni', '13044', 'hơn', 'sostave', 'solid', 'kish', 'vigano', 'diễn', 'shopping', 'dextre', 'picnic', 'sallet', 'cristiani', 'alamat', 'matthaei', '14x21cm', 'arsène', 'flamsteed', '定子', '1264', 'kati', 'deka', 'dymkovo', 'cachao', 'khốt', 'bartelemy', 'merced', 'beeckman', 'john’s', 'nol', '1822–1884', 'rợp', 'said', 'mol−1', '2738', 'càng', 'statistics', 'circoviridae', 'tick', 'sena', '1000xm4', 'draco', 'miseremini', 'obama', 'lửng', '903', '595', 'godfrid', 'stedenrij', '−at', 'fadh2', 'zuid', 'joy', 'ghana', 'nederlanden', 'butane', '391', 'yūki', 'appèl', 'sắc', 'asd', 'николаевич', 'async', 'vinaphone', 'seas', 'tongkin', 'respublika', 'mageia', 'ethan', 'otsuka', '260°', 'vixens', 'nọt', 'nampetch', 'heike', '61c', 'quaestiones', 'jonathan', 'rust', 'active', 'franj', 'hannover']\n",
      "45822\n"
     ]
    }
   ],
   "source": [
    "stok = tokenizer.SyllableTokenizer(32768)\n",
    "stok.load(\"data/train.txt\")\n",
    "stok.load(\"data/test.txt\")\n",
    "\n",
    "print(list(stok.vocab)[:100])\n",
    "print(len(stok.vocab))"
   ]
  },
  {
   "cell_type": "code",
   "execution_count": 29,
   "id": "2f5f31dd",
   "metadata": {},
   "outputs": [
    {
     "name": "stdout",
     "output_type": "stream",
     "text": [
      "[26155, 16456, 22534]\n",
      "1899–1923 wadowice calbayog \n"
     ]
    }
   ],
   "source": [
    "print(stok.encode(\"tôi là béo.\"))\n",
    "print(stok.decode([20455, 9542, 11981]))"
   ]
  }
 ],
 "metadata": {
  "kernelspec": {
   "display_name": "base",
   "language": "python",
   "name": "python3"
  },
  "language_info": {
   "codemirror_mode": {
    "name": "ipython",
    "version": 3
   },
   "file_extension": ".py",
   "mimetype": "text/x-python",
   "name": "python",
   "nbconvert_exporter": "python",
   "pygments_lexer": "ipython3",
   "version": "3.12.7"
  }
 },
 "nbformat": 4,
 "nbformat_minor": 5
}
